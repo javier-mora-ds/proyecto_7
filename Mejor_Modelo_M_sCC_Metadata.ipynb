{
  "nbformat": 4,
  "nbformat_minor": 0,
  "metadata": {
    "colab": {
      "provenance": [],
      "gpuType": "T4"
    },
    "kernelspec": {
      "name": "python3",
      "display_name": "Python 3"
    },
    "language_info": {
      "name": "python"
    },
    "accelerator": "GPU"
  },
  "cells": [
    {
      "cell_type": "code",
      "execution_count": null,
      "metadata": {
        "id": "OGs0Fh2O69pp"
      },
      "outputs": [],
      "source": [
        "import pandas as pd\n",
        "import numpy as np\n",
        "import torch\n",
        "import torch.nn as nn\n",
        "import torch.nn.functional as F\n",
        "import torch.optim as optim\n",
        "import torchvision\n",
        "import torchvision.transforms as transforms\n",
        "import torchvision.transforms.functional as TF\n",
        "import torch.utils.data as data\n",
        "from torch.utils.data import DataLoader, TensorDataset\n",
        "import pickle\n",
        "import time\n",
        "from sklearn.metrics import accuracy_score, precision_score, recall_score, f1_score, confusion_matrix, roc_curve, roc_auc_score, precision_recall_curve, auc\n",
        "import seaborn as sns\n",
        "import matplotlib.pyplot as plt"
      ]
    },
    {
      "cell_type": "markdown",
      "source": [
        "#Cargar datos y exploración"
      ],
      "metadata": {
        "id": "YmYp0-SR7JMR"
      }
    },
    {
      "cell_type": "code",
      "source": [
        "with open('/content/drive/MyDrive/Colab Notebooks/td_ztf_stamp_17_06_20.pkl', 'rb') as file:\n",
        "    data = pickle.load(file)\n",
        "\n",
        "print(type(data))\n",
        "print(data.keys())"
      ],
      "metadata": {
        "colab": {
          "base_uri": "https://localhost:8080/"
        },
        "id": "h0fIgC7R7JrZ",
        "outputId": "04bf12a7-c89c-4f17-faec-c69e8879f3bd"
      },
      "execution_count": null,
      "outputs": [
        {
          "output_type": "stream",
          "name": "stdout",
          "text": [
            "<class 'dict'>\n",
            "dict_keys(['Train', 'Validation', 'Test'])\n"
          ]
        }
      ]
    },
    {
      "cell_type": "code",
      "source": [
        "train_data = data[\"Train\"]\n",
        "\n",
        "# Si train_data es un DataFrame:\n",
        "if isinstance(train_data, pd.DataFrame):\n",
        "    print(train_data.head())\n",
        "    print(train_data.info())\n",
        "else:\n",
        "    print(type(train_data))"
      ],
      "metadata": {
        "colab": {
          "base_uri": "https://localhost:8080/"
        },
        "id": "nc8EueDm7LXJ",
        "outputId": "6cd9c83e-ab34-48bc-a317-7e1eda2e6150"
      },
      "execution_count": null,
      "outputs": [
        {
          "output_type": "stream",
          "name": "stdout",
          "text": [
            "<class 'dict'>\n"
          ]
        }
      ]
    },
    {
      "cell_type": "code",
      "source": [
        "print(train_data.keys())"
      ],
      "metadata": {
        "id": "UNqnzWyb7N2h"
      },
      "execution_count": null,
      "outputs": []
    },
    {
      "cell_type": "markdown",
      "source": [
        "#Pre procesamiento de datos"
      ],
      "metadata": {
        "id": "KZahWuRm7YCc"
      }
    },
    {
      "cell_type": "code",
      "source": [
        "# Cargar los datos\n",
        "train_data = data[\"Train\"]\n",
        "val_data = data[\"Validation\"]\n",
        "test_data = data[\"Test\"]\n",
        "\n",
        "# Convertir los datos de entrenamiento a un tensor de PyTorch.\n",
        "train_images = torch.from_numpy(train_data[\"images\"])\n",
        "train_labels = torch.from_numpy(train_data[\"labels\"])\n",
        "train_features = torch.from_numpy(train_data[\"features\"].astype(np.float32))\n",
        "\n",
        "# Convertir los datos de validación a un tensor de PyTorch.\n",
        "val_images = torch.from_numpy(val_data[\"images\"])\n",
        "val_labels = torch.from_numpy(val_data[\"labels\"])\n",
        "val_features = torch.from_numpy(val_data[\"features\"].astype(np.float32))\n",
        "\n",
        "# Convertir los datos de prueba a un tensor de PyTorch.\n",
        "test_images = torch.from_numpy(test_data[\"images\"])\n",
        "test_labels = torch.from_numpy(test_data[\"labels\"])\n",
        "test_features = torch.from_numpy(test_data[\"features\"].astype(np.float32))"
      ],
      "metadata": {
        "id": "-Tjd8wxk7YfI"
      },
      "execution_count": null,
      "outputs": []
    },
    {
      "cell_type": "code",
      "source": [
        "# Cambiar la forma de los datos de entrada\n",
        "train_images = train_images.permute(0, 3, 1, 2)\n",
        "val_images = val_images.permute(0, 3, 1, 2)\n",
        "test_images = test_images.permute(0, 3, 1, 2)"
      ],
      "metadata": {
        "id": "vgDn6ntg7bPp"
      },
      "execution_count": null,
      "outputs": []
    },
    {
      "cell_type": "code",
      "source": [
        "# Aplicar recorte al centro\n",
        "def center_crop_images(images):\n",
        "    cropped_images = TF.center_crop(images, (21, 21))\n",
        "    return cropped_images"
      ],
      "metadata": {
        "id": "hKS4Gvv87cyg"
      },
      "execution_count": null,
      "outputs": []
    },
    {
      "cell_type": "code",
      "source": [
        "# Aplicar el preprocesamiento a los conjuntos de entrenamiento, validación y prueba\n",
        "train_images = center_crop_images(train_images)\n",
        "val_images = center_crop_images(val_images)\n",
        "test_images = center_crop_images(test_images)\n",
        "\n",
        "# Crear dataloader de entrenamiento\n",
        "train_dataset = TensorDataset(train_images, train_labels, train_features)\n",
        "train_loader = DataLoader(train_dataset, batch_size=32, shuffle=True)\n",
        "\n",
        "# Crear dataloader de validación\n",
        "val_dataset = TensorDataset(val_images, val_labels, val_features)\n",
        "val_loader = DataLoader(val_dataset, batch_size=32, shuffle=False)\n",
        "\n",
        "# Crear dataloader de prueba\n",
        "test_dataset = TensorDataset(test_images, test_labels, test_features)\n",
        "test_loader = DataLoader(test_dataset, batch_size=32, shuffle=False)"
      ],
      "metadata": {
        "id": "5YcZmrJM7hIg"
      },
      "execution_count": null,
      "outputs": []
    },
    {
      "cell_type": "markdown",
      "source": [
        "# Mejor Modelo"
      ],
      "metadata": {
        "id": "d3xSHV858Cw_"
      }
    },
    {
      "cell_type": "markdown",
      "source": [
        "##Modelo Crop, sin ZPadd + Capas convolucionales adicionales + Metadatos"
      ],
      "metadata": {
        "id": "aaFuuuol7meB"
      }
    },
    {
      "cell_type": "markdown",
      "source": [
        "# Arquitectura con Concatenación de Metadata\n",
        "\n",
        "| Capa | Tipo de Capa           | Entradas                  | Salidas                  | Kernel/Pool |\n",
        "|------|------------------------|---------------------------|--------------------------|-------------|\n",
        "| 1    | Rotaciones             | 3                         | 3                        | 3x3         |\n",
        "| 2    | Conv1                  | 3                         | 32                       | 4x4         |\n",
        "| 3    | Conv2                  | 32                        | 32                       | 3x3         |\n",
        "| 4    | MaxPool1               | -                         | -                        | 2x2         |\n",
        "| 5    | Conv3                  | 32                        | 64                       | 3x3         |\n",
        "| 6    | Conv4                  | 64                        | 64                       | 3x3         |\n",
        "| 7    | Conv5                  | 64                        | 64                       | 3x3         |\n",
        "| 8    | MaxPool2               | -                         | -                        | 2x2         |\n",
        "| 9    | Conv6                  | 64                        | 128                      | 3x3         |\n",
        "| 10   | Conv7                  | 128                       | 128                      | 3x3         |\n",
        "| 11   | Conv8                  | 128                       | 128                      | 3x3         |\n",
        "| 12   | MaxPool3               | -                         | -                        | 2x2         |\n",
        "| 13   | Cyclic Pooling         | -                         | 256                      | -           |\n",
        "| 14   | Flatten                | -                         | 256                      | -           |\n",
        "| 15   | Metadata FC            | 64                        | 64                       | -           |\n",
        "| 16   | Concatenación          | 256 (Imagen) + 64 (Meta)  | 320                      | -           |\n",
        "| 17   | Dense1                 | 320                       | 64                       | -           |\n",
        "| 18   | Dense2                 | 64                        | 64                       | -           |\n",
        "| 19   | Salida                 | 64                        | 5                        | -           |\n",
        "| 20   | Dropout                | -                         | -                        | -           |\n"
      ],
      "metadata": {
        "id": "JVEwNFMoewmk"
      }
    },
    {
      "cell_type": "code",
      "source": [
        "#Rotaciones\n",
        "def RotAugmentation(x_0):\n",
        "    #print(x_0[1,1,:,:].shape)\n",
        "    x_1 = x_0\n",
        "    x_2 = x_0\n",
        "    x_3 = x_0\n",
        "\n",
        "    for i in range (x_0.shape[0]):\n",
        "      for j in range (3):\n",
        "        x_1[i,j,:,:] = torch.rot90(x_0[i,j,:,:], 1, [0,1])\n",
        "        x_2[i,j,:,:] = torch.rot90(x_0[i,j,:,:], 2, [0,1])\n",
        "        x_3[i,j,:,:] = torch.rot90(x_0[i,j,:,:], 3, [0,1])\n",
        "\n",
        "    return [x_0,x_1,x_2,x_3]"
      ],
      "metadata": {
        "id": "KIpKfqHi7p6B"
      },
      "execution_count": null,
      "outputs": []
    },
    {
      "cell_type": "code",
      "source": [
        "class CyclicPool(nn.Module):\n",
        "    def __init__(self, in_channels):\n",
        "        super(CyclicPool, self).__init__()\n",
        "        self.in_channels = in_channels\n",
        "        self.avg_pool = nn.AvgPool2d(kernel_size=2, stride=2)\n",
        "        self.max_pool = nn.MaxPool2d(kernel_size=2, stride=2)\n",
        "\n",
        "    def forward(self, x):\n",
        "        x_avg = self.avg_pool(x)\n",
        "        x_max = self.max_pool(x)\n",
        "        x = torch.cat([x_avg, x_max], dim=1)\n",
        "        return x"
      ],
      "metadata": {
        "id": "G7n03JFev7XN"
      },
      "execution_count": null,
      "outputs": []
    },
    {
      "cell_type": "code",
      "source": [
        "class SupernovaDetector(nn.Module):\n",
        "    def __init__(self, num_metadata_features=320):\n",
        "        super(SupernovaDetector, self).__init__()\n",
        "        self.conv1 = nn.Conv2d(3, 32, kernel_size=4, stride=1, padding=2)\n",
        "        self.conv2 = nn.Conv2d(32, 32, kernel_size=3, stride=1, padding=1)\n",
        "        self.pool1 = nn.MaxPool2d(2, 2)\n",
        "        self.conv3 = nn.Conv2d(32, 64, kernel_size=3, stride=1, padding=1)\n",
        "        self.conv4 = nn.Conv2d(64, 64, kernel_size=3, stride=1, padding=1)\n",
        "        self.conv5 = nn.Conv2d(64, 64, kernel_size=3, stride=1, padding=1)\n",
        "        self.pool2 = nn.MaxPool2d(2, 2)\n",
        "        self.conv6 = nn.Conv2d(64, 128, kernel_size=3, stride=1, padding=1)\n",
        "        self.conv7 = nn.Conv2d(128, 128, kernel_size=3, stride=1, padding=1)\n",
        "        self.conv8 = nn.Conv2d(128, 128, kernel_size=3, stride=1, padding=1)\n",
        "        self.pool3 = nn.MaxPool2d(2, 2)\n",
        "        self.cyclic_pool = CyclicPool(128)\n",
        "        self.flatten = nn.Flatten()\n",
        "        self.dense1 = nn.Linear(282, 64)\n",
        "        self.dense2 = nn.Linear(64, 64)\n",
        "        self.output_layer = nn.Linear(64, 5)\n",
        "        self.dropout = nn.Dropout(p=0.5)\n",
        "\n",
        "    def forward(self, x, metadata):\n",
        "        x_rotated_list = RotAugmentation(x)\n",
        "        x_rotated = torch.cat(x_rotated_list, dim=0)\n",
        "        x = self.conv1(x)\n",
        "        x = F.relu(x)\n",
        "        x = self.conv2(x)\n",
        "        x = F.relu(x)\n",
        "        x = self.pool1(x)\n",
        "        x = self.conv3(x)\n",
        "        x = F.relu(x)\n",
        "        x = self.conv4(x)\n",
        "        x = F.relu(x)\n",
        "        x = self.conv5(x)\n",
        "        x = F.relu(x)\n",
        "        x = self.pool2(x)\n",
        "        x = self.conv6(x)\n",
        "        x = F.relu(x)\n",
        "        x = self.conv7(x)\n",
        "        x = F.relu(x)\n",
        "        x = self.conv8(x)\n",
        "        x = F.relu(x)\n",
        "        x = self.pool3(x)\n",
        "        x = self.cyclic_pool(x)\n",
        "        x = self.flatten(x)\n",
        "        x = torch.cat((x, metadata), dim=1)\n",
        "        x = self.dense1(x)\n",
        "        x = F.relu(x)\n",
        "        x = self.dropout(x)\n",
        "        x = self.dense2(x)\n",
        "        x = F.relu(x)\n",
        "        x = self.dropout(x)\n",
        "        x = self.output_layer(x)\n",
        "        return x"
      ],
      "metadata": {
        "id": "8T0rN8Bi7uKP"
      },
      "execution_count": null,
      "outputs": []
    },
    {
      "cell_type": "markdown",
      "source": [
        "#Entrenamiento"
      ],
      "metadata": {
        "id": "vDgjR93P78fk"
      }
    },
    {
      "cell_type": "code",
      "source": [
        "# Número de épocas y tamaño de lote\n",
        "num_epochs = 10\n",
        "batch_size = 32\n",
        "\n",
        "# Definir el modelo, optimizador y función de pérdida\n",
        "model = SupernovaDetector()\n",
        "\n",
        "# Seleccionar el optimizador y la función de pérdida\n",
        "optimizer = optim.Adam(model.parameters(), lr=0.001)\n",
        "criterion = nn.CrossEntropyLoss()\n",
        "\n",
        "# Entrenar el modelo\n",
        "for epoch in range(num_epochs):\n",
        "    start_time = time.time()\n",
        "    running_loss = 0.0\n",
        "    correct = 0\n",
        "    total = 0\n",
        "\n",
        "    for i, data in enumerate(train_loader, 0):\n",
        "        inputs, labels, features = data  # Obtener tanto imágenes como features\n",
        "\n",
        "        # Poner a cero los gradientes\n",
        "        optimizer.zero_grad()\n",
        "\n",
        "        # Propagación hacia adelante\n",
        "        outputs = model(inputs, features)  # Pasar tanto imágenes como features al modelo\n",
        "        loss = criterion(outputs, labels)\n",
        "        loss.backward()\n",
        "        optimizer.step()\n",
        "\n",
        "        # Calcular estadísticas\n",
        "        running_loss += loss.item()\n",
        "        _, predicted = torch.max(outputs.data, 1)\n",
        "        total += labels.size(0)\n",
        "        correct += (predicted == labels).sum().item()\n",
        "\n",
        "        # Imprimir estadísticas\n",
        "        if i % 100 == 99:  # Imprimir cada 100 lotes\n",
        "            print(f'Época [{epoch + 1}, Lote {i + 1}], Pérdida: {running_loss / 100:.3f}, Precisión: {100 * correct / total:.2f}%')\n",
        "            running_loss = 0.0\n",
        "\n",
        "    end_time = time.time()\n",
        "    print(f'Tiempo de época: {end_time - start_time:.2f} segundos')\n",
        "\n",
        "print('Entrenamiento finalizado')\n"
      ],
      "metadata": {
        "colab": {
          "base_uri": "https://localhost:8080/"
        },
        "id": "Mpsj8Y3C7-aM",
        "outputId": "731aa452-6b3f-4383-acce-2a69334473b3"
      },
      "execution_count": null,
      "outputs": [
        {
          "output_type": "stream",
          "name": "stdout",
          "text": [
            "Época [1, Lote 100], Pérdida: 1.236, Precisión: 55.69%\n",
            "Época [1, Lote 200], Pérdida: 0.674, Precisión: 67.19%\n",
            "Época [1, Lote 300], Pérdida: 0.538, Precisión: 72.07%\n",
            "Época [1, Lote 400], Pérdida: 0.510, Precisión: 74.82%\n",
            "Época [1, Lote 500], Pérdida: 0.454, Precisión: 76.82%\n",
            "Época [1, Lote 600], Pérdida: 0.459, Precisión: 78.08%\n",
            "Época [1, Lote 700], Pérdida: 0.426, Precisión: 79.30%\n",
            "Época [1, Lote 800], Pérdida: 0.440, Precisión: 80.07%\n",
            "Época [1, Lote 900], Pérdida: 0.464, Precisión: 80.62%\n",
            "Época [1, Lote 1000], Pérdida: 0.445, Precisión: 81.12%\n",
            "Época [1, Lote 1100], Pérdida: 0.416, Precisión: 81.58%\n",
            "Época [1, Lote 1200], Pérdida: 0.417, Precisión: 81.92%\n",
            "Época [1, Lote 1300], Pérdida: 0.396, Precisión: 82.28%\n",
            "Época [1, Lote 1400], Pérdida: 0.400, Precisión: 82.64%\n",
            "Época [1, Lote 1500], Pérdida: 0.400, Precisión: 82.89%\n",
            "Época [1, Lote 1600], Pérdida: 0.396, Precisión: 83.13%\n",
            "Época [1, Lote 1700], Pérdida: 0.395, Precisión: 83.31%\n",
            "Época [1, Lote 1800], Pérdida: 0.386, Precisión: 83.50%\n",
            "Época [1, Lote 1900], Pérdida: 0.389, Precisión: 83.74%\n",
            "Época [1, Lote 2000], Pérdida: 0.385, Precisión: 83.92%\n",
            "Época [1, Lote 2100], Pérdida: 0.367, Precisión: 84.13%\n",
            "Época [1, Lote 2200], Pérdida: 0.360, Precisión: 84.32%\n",
            "Tiempo de época: 203.27 segundos\n",
            "Época [2, Lote 100], Pérdida: 0.357, Precisión: 88.88%\n",
            "Época [2, Lote 200], Pérdida: 0.333, Precisión: 89.16%\n",
            "Época [2, Lote 300], Pérdida: 0.393, Precisión: 88.55%\n",
            "Época [2, Lote 400], Pérdida: 0.367, Precisión: 88.49%\n",
            "Época [2, Lote 500], Pérdida: 0.333, Precisión: 88.66%\n",
            "Época [2, Lote 600], Pérdida: 0.346, Precisión: 88.70%\n",
            "Época [2, Lote 700], Pérdida: 0.338, Precisión: 88.72%\n",
            "Época [2, Lote 800], Pérdida: 0.353, Precisión: 88.73%\n",
            "Época [2, Lote 900], Pérdida: 0.352, Precisión: 88.68%\n",
            "Época [2, Lote 1000], Pérdida: 0.324, Precisión: 88.70%\n",
            "Época [2, Lote 1100], Pérdida: 0.342, Precisión: 88.75%\n",
            "Época [2, Lote 1200], Pérdida: 0.357, Precisión: 88.72%\n",
            "Época [2, Lote 1300], Pérdida: 0.349, Precisión: 88.72%\n",
            "Época [2, Lote 1400], Pérdida: 0.346, Precisión: 88.68%\n",
            "Época [2, Lote 1500], Pérdida: 0.332, Precisión: 88.71%\n",
            "Época [2, Lote 1600], Pérdida: 0.333, Precisión: 88.74%\n",
            "Época [2, Lote 1700], Pérdida: 0.340, Precisión: 88.73%\n",
            "Época [2, Lote 1800], Pérdida: 0.323, Precisión: 88.75%\n",
            "Época [2, Lote 1900], Pérdida: 0.361, Precisión: 88.74%\n",
            "Época [2, Lote 2000], Pérdida: 0.328, Precisión: 88.78%\n",
            "Época [2, Lote 2100], Pérdida: 0.339, Precisión: 88.79%\n",
            "Época [2, Lote 2200], Pérdida: 0.319, Precisión: 88.83%\n",
            "Tiempo de época: 201.51 segundos\n",
            "Época [3, Lote 100], Pérdida: 0.346, Precisión: 88.88%\n",
            "Época [3, Lote 200], Pérdida: 0.318, Precisión: 89.20%\n",
            "Época [3, Lote 300], Pérdida: 0.334, Precisión: 89.28%\n",
            "Época [3, Lote 400], Pérdida: 0.315, Precisión: 89.50%\n",
            "Época [3, Lote 500], Pérdida: 0.316, Precisión: 89.55%\n",
            "Época [3, Lote 600], Pérdida: 0.315, Precisión: 89.48%\n",
            "Época [3, Lote 700], Pérdida: 0.309, Precisión: 89.61%\n",
            "Época [3, Lote 800], Pérdida: 0.321, Precisión: 89.56%\n",
            "Época [3, Lote 900], Pérdida: 0.332, Precisión: 89.52%\n",
            "Época [3, Lote 1000], Pérdida: 0.324, Precisión: 89.48%\n",
            "Época [3, Lote 1100], Pérdida: 0.324, Precisión: 89.50%\n",
            "Época [3, Lote 1200], Pérdida: 0.316, Precisión: 89.54%\n",
            "Época [3, Lote 1300], Pérdida: 0.326, Precisión: 89.51%\n",
            "Época [3, Lote 1400], Pérdida: 0.305, Precisión: 89.57%\n",
            "Época [3, Lote 1500], Pérdida: 0.303, Precisión: 89.60%\n",
            "Época [3, Lote 1600], Pérdida: 0.304, Precisión: 89.64%\n",
            "Época [3, Lote 1700], Pérdida: 0.333, Precisión: 89.64%\n",
            "Época [3, Lote 1800], Pérdida: 0.330, Precisión: 89.61%\n",
            "Época [3, Lote 1900], Pérdida: 0.312, Precisión: 89.62%\n",
            "Época [3, Lote 2000], Pérdida: 0.321, Precisión: 89.58%\n",
            "Época [3, Lote 2100], Pérdida: 0.300, Precisión: 89.63%\n",
            "Época [3, Lote 2200], Pérdida: 0.318, Precisión: 89.63%\n",
            "Tiempo de época: 198.79 segundos\n",
            "Época [4, Lote 100], Pérdida: 0.304, Precisión: 90.19%\n",
            "Época [4, Lote 200], Pérdida: 0.316, Precisión: 89.91%\n",
            "Época [4, Lote 300], Pérdida: 0.313, Precisión: 90.02%\n",
            "Época [4, Lote 400], Pérdida: 0.305, Precisión: 90.04%\n",
            "Época [4, Lote 500], Pérdida: 0.275, Precisión: 90.20%\n",
            "Época [4, Lote 600], Pérdida: 0.317, Precisión: 90.10%\n",
            "Época [4, Lote 700], Pérdida: 0.299, Precisión: 90.17%\n",
            "Época [4, Lote 800], Pérdida: 0.302, Precisión: 90.26%\n",
            "Época [4, Lote 900], Pérdida: 0.309, Precisión: 90.22%\n",
            "Época [4, Lote 1000], Pérdida: 0.309, Precisión: 90.18%\n",
            "Época [4, Lote 1100], Pérdida: 0.306, Precisión: 90.16%\n",
            "Época [4, Lote 1200], Pérdida: 0.291, Precisión: 90.16%\n",
            "Época [4, Lote 1300], Pérdida: 0.301, Precisión: 90.16%\n",
            "Época [4, Lote 1400], Pérdida: 0.289, Precisión: 90.15%\n",
            "Época [4, Lote 1500], Pérdida: 0.291, Precisión: 90.14%\n",
            "Época [4, Lote 1600], Pérdida: 0.293, Precisión: 90.17%\n",
            "Época [4, Lote 1700], Pérdida: 0.304, Precisión: 90.17%\n",
            "Época [4, Lote 1800], Pérdida: 0.300, Precisión: 90.19%\n",
            "Época [4, Lote 1900], Pérdida: 0.313, Precisión: 90.18%\n",
            "Época [4, Lote 2000], Pérdida: 0.276, Precisión: 90.21%\n",
            "Época [4, Lote 2100], Pérdida: 0.321, Precisión: 90.17%\n",
            "Época [4, Lote 2200], Pérdida: 0.298, Precisión: 90.13%\n",
            "Tiempo de época: 196.98 segundos\n",
            "Época [5, Lote 100], Pérdida: 0.302, Precisión: 90.00%\n",
            "Época [5, Lote 200], Pérdida: 0.281, Precisión: 90.06%\n",
            "Época [5, Lote 300], Pérdida: 0.310, Precisión: 89.89%\n",
            "Época [5, Lote 400], Pérdida: 0.296, Precisión: 89.97%\n",
            "Época [5, Lote 500], Pérdida: 0.307, Precisión: 89.94%\n",
            "Época [5, Lote 600], Pérdida: 0.281, Precisión: 90.12%\n",
            "Época [5, Lote 700], Pérdida: 0.294, Precisión: 90.15%\n",
            "Época [5, Lote 800], Pérdida: 0.302, Precisión: 90.05%\n",
            "Época [5, Lote 900], Pérdida: 0.302, Precisión: 90.11%\n",
            "Época [5, Lote 1000], Pérdida: 0.308, Precisión: 90.09%\n",
            "Época [5, Lote 1100], Pérdida: 0.280, Precisión: 90.17%\n",
            "Época [5, Lote 1200], Pérdida: 0.303, Precisión: 90.19%\n",
            "Época [5, Lote 1300], Pérdida: 0.287, Precisión: 90.21%\n",
            "Época [5, Lote 1400], Pérdida: 0.293, Precisión: 90.23%\n",
            "Época [5, Lote 1500], Pérdida: 0.283, Precisión: 90.25%\n",
            "Época [5, Lote 1600], Pérdida: 0.328, Precisión: 90.18%\n",
            "Época [5, Lote 1700], Pérdida: 0.286, Precisión: 90.18%\n",
            "Época [5, Lote 1800], Pérdida: 0.290, Precisión: 90.18%\n",
            "Época [5, Lote 1900], Pérdida: 0.317, Precisión: 90.18%\n",
            "Época [5, Lote 2000], Pérdida: 0.287, Precisión: 90.20%\n",
            "Época [5, Lote 2100], Pérdida: 0.261, Precisión: 90.26%\n",
            "Época [5, Lote 2200], Pérdida: 0.279, Precisión: 90.31%\n",
            "Tiempo de época: 196.56 segundos\n",
            "Época [6, Lote 100], Pérdida: 0.288, Precisión: 90.91%\n",
            "Época [6, Lote 200], Pérdida: 0.281, Precisión: 91.05%\n",
            "Época [6, Lote 300], Pérdida: 0.302, Precisión: 90.74%\n",
            "Época [6, Lote 400], Pérdida: 0.285, Precisión: 90.70%\n",
            "Época [6, Lote 500], Pérdida: 0.309, Precisión: 90.54%\n",
            "Época [6, Lote 600], Pérdida: 0.281, Precisión: 90.54%\n",
            "Época [6, Lote 700], Pérdida: 0.278, Precisión: 90.57%\n",
            "Época [6, Lote 800], Pérdida: 0.280, Precisión: 90.63%\n",
            "Época [6, Lote 900], Pérdida: 0.278, Precisión: 90.75%\n",
            "Época [6, Lote 1000], Pérdida: 0.299, Precisión: 90.67%\n",
            "Época [6, Lote 1100], Pérdida: 0.301, Precisión: 90.60%\n",
            "Época [6, Lote 1200], Pérdida: 0.313, Precisión: 90.52%\n",
            "Época [6, Lote 1300], Pérdida: 0.282, Precisión: 90.53%\n",
            "Época [6, Lote 1400], Pérdida: 0.288, Precisión: 90.49%\n",
            "Época [6, Lote 1500], Pérdida: 0.297, Precisión: 90.48%\n",
            "Época [6, Lote 1600], Pérdida: 0.287, Precisión: 90.51%\n",
            "Época [6, Lote 1700], Pérdida: 0.276, Precisión: 90.55%\n",
            "Época [6, Lote 1800], Pérdida: 0.291, Precisión: 90.55%\n",
            "Época [6, Lote 1900], Pérdida: 0.257, Precisión: 90.58%\n",
            "Época [6, Lote 2000], Pérdida: 0.249, Precisión: 90.63%\n",
            "Época [6, Lote 2100], Pérdida: 0.285, Precisión: 90.62%\n",
            "Época [6, Lote 2200], Pérdida: 0.286, Precisión: 90.62%\n",
            "Tiempo de época: 194.69 segundos\n",
            "Época [7, Lote 100], Pérdida: 0.282, Precisión: 91.25%\n",
            "Época [7, Lote 200], Pérdida: 0.308, Precisión: 90.61%\n",
            "Época [7, Lote 300], Pérdida: 0.302, Precisión: 90.66%\n",
            "Época [7, Lote 400], Pérdida: 0.278, Precisión: 90.70%\n",
            "Época [7, Lote 500], Pérdida: 0.296, Precisión: 90.59%\n",
            "Época [7, Lote 600], Pérdida: 0.282, Precisión: 90.64%\n",
            "Época [7, Lote 700], Pérdida: 0.263, Precisión: 90.83%\n",
            "Época [7, Lote 800], Pérdida: 0.271, Precisión: 90.84%\n",
            "Época [7, Lote 900], Pérdida: 0.262, Precisión: 90.95%\n",
            "Época [7, Lote 1000], Pérdida: 0.264, Precisión: 90.97%\n",
            "Época [7, Lote 1100], Pérdida: 0.301, Precisión: 90.86%\n",
            "Época [7, Lote 1200], Pérdida: 0.275, Precisión: 90.91%\n",
            "Época [7, Lote 1300], Pérdida: 0.274, Precisión: 90.90%\n",
            "Época [7, Lote 1400], Pérdida: 0.281, Precisión: 90.86%\n",
            "Época [7, Lote 1500], Pérdida: 0.283, Precisión: 90.87%\n",
            "Época [7, Lote 1600], Pérdida: 0.273, Precisión: 90.88%\n",
            "Época [7, Lote 1700], Pérdida: 0.265, Precisión: 90.93%\n",
            "Época [7, Lote 1800], Pérdida: 0.287, Precisión: 90.93%\n",
            "Época [7, Lote 1900], Pérdida: 0.260, Precisión: 90.96%\n",
            "Época [7, Lote 2000], Pérdida: 0.296, Precisión: 90.93%\n",
            "Época [7, Lote 2100], Pérdida: 0.290, Precisión: 90.90%\n",
            "Época [7, Lote 2200], Pérdida: 0.268, Precisión: 90.95%\n",
            "Tiempo de época: 197.19 segundos\n",
            "Época [8, Lote 100], Pérdida: 0.277, Precisión: 90.19%\n",
            "Época [8, Lote 200], Pérdida: 0.281, Precisión: 90.19%\n",
            "Época [8, Lote 300], Pérdida: 0.267, Precisión: 90.62%\n",
            "Época [8, Lote 400], Pérdida: 0.289, Precisión: 90.62%\n",
            "Época [8, Lote 500], Pérdida: 0.277, Precisión: 90.68%\n",
            "Época [8, Lote 600], Pérdida: 0.280, Precisión: 90.81%\n",
            "Época [8, Lote 700], Pérdida: 0.276, Precisión: 90.79%\n",
            "Época [8, Lote 800], Pérdida: 0.313, Precisión: 90.68%\n",
            "Época [8, Lote 900], Pérdida: 0.274, Precisión: 90.79%\n",
            "Época [8, Lote 1000], Pérdida: 0.294, Precisión: 90.75%\n",
            "Época [8, Lote 1100], Pérdida: 0.292, Precisión: 90.67%\n",
            "Época [8, Lote 1200], Pérdida: 0.294, Precisión: 90.63%\n",
            "Época [8, Lote 1300], Pérdida: 0.278, Precisión: 90.66%\n",
            "Época [8, Lote 1400], Pérdida: 0.313, Precisión: 90.64%\n",
            "Época [8, Lote 1500], Pérdida: 0.269, Precisión: 90.63%\n",
            "Época [8, Lote 1600], Pérdida: 0.271, Precisión: 90.67%\n",
            "Época [8, Lote 1700], Pérdida: 0.269, Precisión: 90.69%\n",
            "Época [8, Lote 1800], Pérdida: 0.263, Precisión: 90.73%\n",
            "Época [8, Lote 1900], Pérdida: 0.280, Precisión: 90.71%\n",
            "Época [8, Lote 2000], Pérdida: 0.279, Precisión: 90.72%\n",
            "Época [8, Lote 2100], Pérdida: 0.284, Precisión: 90.73%\n",
            "Época [8, Lote 2200], Pérdida: 0.287, Precisión: 90.76%\n",
            "Tiempo de época: 196.84 segundos\n",
            "Época [9, Lote 100], Pérdida: 0.261, Precisión: 91.19%\n",
            "Época [9, Lote 200], Pérdida: 0.275, Precisión: 91.23%\n",
            "Época [9, Lote 300], Pérdida: 0.297, Precisión: 90.84%\n",
            "Época [9, Lote 400], Pérdida: 0.267, Precisión: 90.88%\n",
            "Época [9, Lote 500], Pérdida: 0.245, Precisión: 91.08%\n",
            "Época [9, Lote 600], Pérdida: 0.292, Precisión: 90.97%\n",
            "Época [9, Lote 700], Pérdida: 0.260, Precisión: 91.06%\n",
            "Época [9, Lote 800], Pérdida: 0.258, Precisión: 91.10%\n",
            "Época [9, Lote 900], Pérdida: 0.275, Precisión: 91.09%\n",
            "Época [9, Lote 1000], Pérdida: 0.270, Precisión: 91.12%\n",
            "Época [9, Lote 1100], Pérdida: 0.263, Precisión: 91.17%\n",
            "Época [9, Lote 1200], Pérdida: 0.279, Precisión: 91.18%\n",
            "Época [9, Lote 1300], Pérdida: 0.281, Precisión: 91.15%\n",
            "Época [9, Lote 1400], Pérdida: 0.292, Precisión: 91.12%\n",
            "Época [9, Lote 1500], Pérdida: 0.288, Precisión: 91.06%\n",
            "Época [9, Lote 1600], Pérdida: 0.276, Precisión: 91.03%\n",
            "Época [9, Lote 1700], Pérdida: 0.273, Precisión: 91.03%\n",
            "Época [9, Lote 1800], Pérdida: 0.272, Precisión: 91.04%\n",
            "Época [9, Lote 1900], Pérdida: 0.270, Precisión: 91.05%\n",
            "Época [9, Lote 2000], Pérdida: 0.283, Precisión: 91.03%\n",
            "Época [9, Lote 2100], Pérdida: 0.283, Precisión: 91.03%\n",
            "Época [9, Lote 2200], Pérdida: 0.270, Precisión: 91.06%\n",
            "Tiempo de época: 195.65 segundos\n",
            "Época [10, Lote 100], Pérdida: 0.286, Precisión: 90.53%\n",
            "Época [10, Lote 200], Pérdida: 0.297, Precisión: 90.48%\n",
            "Época [10, Lote 300], Pérdida: 0.263, Precisión: 90.74%\n",
            "Época [10, Lote 400], Pérdida: 0.248, Precisión: 91.12%\n",
            "Época [10, Lote 500], Pérdida: 0.277, Precisión: 91.10%\n",
            "Época [10, Lote 600], Pérdida: 0.272, Precisión: 91.17%\n",
            "Época [10, Lote 700], Pérdida: 0.260, Precisión: 91.19%\n",
            "Época [10, Lote 800], Pérdida: 0.265, Precisión: 91.18%\n",
            "Época [10, Lote 900], Pérdida: 0.261, Precisión: 91.26%\n",
            "Época [10, Lote 1000], Pérdida: 0.278, Precisión: 91.24%\n",
            "Época [10, Lote 1100], Pérdida: 0.246, Precisión: 91.30%\n",
            "Época [10, Lote 1200], Pérdida: 0.276, Precisión: 91.23%\n",
            "Época [10, Lote 1300], Pérdida: 0.293, Precisión: 91.21%\n",
            "Época [10, Lote 1400], Pérdida: 0.279, Precisión: 91.23%\n",
            "Época [10, Lote 1500], Pérdida: 0.256, Precisión: 91.22%\n",
            "Época [10, Lote 1600], Pérdida: 0.282, Precisión: 91.21%\n",
            "Época [10, Lote 1700], Pérdida: 0.262, Precisión: 91.20%\n",
            "Época [10, Lote 1800], Pérdida: 0.281, Precisión: 91.20%\n",
            "Época [10, Lote 1900], Pérdida: 0.288, Precisión: 91.14%\n",
            "Época [10, Lote 2000], Pérdida: 0.256, Precisión: 91.18%\n",
            "Época [10, Lote 2100], Pérdida: 0.276, Precisión: 91.15%\n",
            "Época [10, Lote 2200], Pérdida: 0.263, Precisión: 91.16%\n",
            "Tiempo de época: 197.53 segundos\n",
            "Entrenamiento finalizado\n"
          ]
        }
      ]
    },
    {
      "cell_type": "code",
      "source": [
        "# Guardar el modelo\n",
        "torch.save(model.state_dict(), 'bestmodel.pth')\n",
        "\n",
        "# Para descargar el modelo\n",
        "from google.colab import files\n",
        "files.download('bestmodel.pth')\n",
        "# 35min aprox."
      ],
      "metadata": {
        "colab": {
          "base_uri": "https://localhost:8080/",
          "height": 17
        },
        "id": "crqsa24Y8CG8",
        "outputId": "76d436c6-449f-43d0-9d6b-487820216fec"
      },
      "execution_count": null,
      "outputs": [
        {
          "output_type": "display_data",
          "data": {
            "text/plain": [
              "<IPython.core.display.Javascript object>"
            ],
            "application/javascript": [
              "\n",
              "    async function download(id, filename, size) {\n",
              "      if (!google.colab.kernel.accessAllowed) {\n",
              "        return;\n",
              "      }\n",
              "      const div = document.createElement('div');\n",
              "      const label = document.createElement('label');\n",
              "      label.textContent = `Downloading \"${filename}\": `;\n",
              "      div.appendChild(label);\n",
              "      const progress = document.createElement('progress');\n",
              "      progress.max = size;\n",
              "      div.appendChild(progress);\n",
              "      document.body.appendChild(div);\n",
              "\n",
              "      const buffers = [];\n",
              "      let downloaded = 0;\n",
              "\n",
              "      const channel = await google.colab.kernel.comms.open(id);\n",
              "      // Send a message to notify the kernel that we're ready.\n",
              "      channel.send({})\n",
              "\n",
              "      for await (const message of channel.messages) {\n",
              "        // Send a message to notify the kernel that we're ready.\n",
              "        channel.send({})\n",
              "        if (message.buffers) {\n",
              "          for (const buffer of message.buffers) {\n",
              "            buffers.push(buffer);\n",
              "            downloaded += buffer.byteLength;\n",
              "            progress.value = downloaded;\n",
              "          }\n",
              "        }\n",
              "      }\n",
              "      const blob = new Blob(buffers, {type: 'application/binary'});\n",
              "      const a = document.createElement('a');\n",
              "      a.href = window.URL.createObjectURL(blob);\n",
              "      a.download = filename;\n",
              "      div.appendChild(a);\n",
              "      a.click();\n",
              "      div.remove();\n",
              "    }\n",
              "  "
            ]
          },
          "metadata": {}
        },
        {
          "output_type": "display_data",
          "data": {
            "text/plain": [
              "<IPython.core.display.Javascript object>"
            ],
            "application/javascript": [
              "download(\"download_f3b8136a-641d-4e69-9344-5d6a81468758\", \"bestmodel.pth\", 1986440)"
            ]
          },
          "metadata": {}
        }
      ]
    },
    {
      "cell_type": "code",
      "source": [
        "import torch\n",
        "model_path = '/content/drive/MyDrive/Colab Notebooks/bestmodel.pth'\n",
        "model = SupernovaDetector()  # Instancia del modelo\n",
        "model.load_state_dict(torch.load(model_path))\n",
        "model.eval()  # Modelo en modo de evaluación"
      ],
      "metadata": {
        "colab": {
          "base_uri": "https://localhost:8080/"
        },
        "id": "pLi3ZFSa-jZa",
        "outputId": "b305b9f8-4533-4f07-9de2-e5cf4e79b478"
      },
      "execution_count": null,
      "outputs": [
        {
          "output_type": "execute_result",
          "data": {
            "text/plain": [
              "SupernovaDetector(\n",
              "  (conv1): Conv2d(3, 32, kernel_size=(4, 4), stride=(1, 1), padding=(2, 2))\n",
              "  (conv2): Conv2d(32, 32, kernel_size=(3, 3), stride=(1, 1), padding=(1, 1))\n",
              "  (pool1): MaxPool2d(kernel_size=2, stride=2, padding=0, dilation=1, ceil_mode=False)\n",
              "  (conv3): Conv2d(32, 64, kernel_size=(3, 3), stride=(1, 1), padding=(1, 1))\n",
              "  (conv4): Conv2d(64, 64, kernel_size=(3, 3), stride=(1, 1), padding=(1, 1))\n",
              "  (conv5): Conv2d(64, 64, kernel_size=(3, 3), stride=(1, 1), padding=(1, 1))\n",
              "  (pool2): MaxPool2d(kernel_size=2, stride=2, padding=0, dilation=1, ceil_mode=False)\n",
              "  (conv6): Conv2d(64, 128, kernel_size=(3, 3), stride=(1, 1), padding=(1, 1))\n",
              "  (conv7): Conv2d(128, 128, kernel_size=(3, 3), stride=(1, 1), padding=(1, 1))\n",
              "  (conv8): Conv2d(128, 128, kernel_size=(3, 3), stride=(1, 1), padding=(1, 1))\n",
              "  (pool3): MaxPool2d(kernel_size=2, stride=2, padding=0, dilation=1, ceil_mode=False)\n",
              "  (cyclic_pool): CyclicPool(\n",
              "    (avg_pool): AvgPool2d(kernel_size=2, stride=2, padding=0)\n",
              "    (max_pool): MaxPool2d(kernel_size=2, stride=2, padding=0, dilation=1, ceil_mode=False)\n",
              "  )\n",
              "  (flatten): Flatten(start_dim=1, end_dim=-1)\n",
              "  (dense1): Linear(in_features=282, out_features=64, bias=True)\n",
              "  (dense2): Linear(in_features=64, out_features=64, bias=True)\n",
              "  (output_layer): Linear(in_features=64, out_features=5, bias=True)\n",
              "  (dropout): Dropout(p=0.5, inplace=False)\n",
              ")"
            ]
          },
          "metadata": {},
          "execution_count": 7
        }
      ]
    },
    {
      "cell_type": "markdown",
      "source": [
        "#Evaluación del Modelo"
      ],
      "metadata": {
        "id": "s1AQACNP8Kct"
      }
    },
    {
      "cell_type": "code",
      "source": [
        "from sklearn.metrics import roc_curve, roc_auc_score, confusion_matrix, accuracy_score, precision_score, recall_score, f1_score\n",
        "import matplotlib.pyplot as plt\n",
        "import seaborn as sns\n",
        "import numpy as np\n",
        "\n",
        "# Función de evaluación de precisión\n",
        "def evaluate_accuracy(model, data_loader):\n",
        "    model.eval()\n",
        "    correct = 0\n",
        "    total = 0\n",
        "\n",
        "    with torch.no_grad():\n",
        "        for inputs, labels, features in data_loader:\n",
        "            outputs = model(inputs, features)\n",
        "            _, predicted = torch.max(outputs, 1)\n",
        "            total += labels.size(0)\n",
        "            correct += (predicted == labels).sum().item()\n",
        "\n",
        "    accuracy = 100 * correct / total\n",
        "    return accuracy\n",
        "\n",
        "# Función de evaluación para ROC, matriz de confusión y métricas adicionales\n",
        "def evaluate_model_metrics(model, data_loader):\n",
        "    model.eval()\n",
        "    all_labels = []\n",
        "    all_scores = []\n",
        "\n",
        "    with torch.no_grad():\n",
        "        for inputs, labels, features in data_loader:\n",
        "            outputs = model(inputs, features)\n",
        "            all_labels.extend(labels.numpy())\n",
        "            all_scores.extend(outputs.numpy())\n",
        "\n",
        "    n_classes = len(np.unique(all_labels))\n",
        "    fpr = dict()\n",
        "    tpr = dict()\n",
        "    roc_auc = dict()\n",
        "\n",
        "    for i in range(n_classes):\n",
        "        true_labels = np.array(all_labels) == i\n",
        "        scores = [score[i] for score in all_scores]\n",
        "        fpr[i], tpr[i], _ = roc_curve(true_labels, scores)\n",
        "        roc_auc[i] = roc_auc_score(true_labels, scores)\n",
        "\n",
        "    # Coonfusion matrix\n",
        "    all_labels = np.array(all_labels)\n",
        "    all_predictions = np.array(all_scores).argmax(axis=1)\n",
        "    cm = confusion_matrix(all_labels, all_predictions)\n",
        "\n",
        "    # Normalizar la matriz de confusión\n",
        "    cm_normalized = cm.astype('float') / cm.sum(axis=1)[:, np.newaxis]\n",
        "\n",
        "    # Métricas adicionales\n",
        "    accuracy = accuracy_score(all_labels, all_predictions)\n",
        "    precision_per_class = precision_score(all_labels, all_predictions, average=None)\n",
        "    recall_per_class = recall_score(all_labels, all_predictions, average=None)\n",
        "    f1_per_class = f1_score(all_labels, all_predictions, average=None)\n",
        "\n",
        "    return fpr, tpr, roc_auc, cm, cm_normalized, accuracy, precision_per_class, recall_per_class, f1_per_class\n",
        "\n",
        "# Llamar a la función para obtener las métricas\n",
        "fpr, tpr, roc_auc, cm, cm_normalized, accuracy, precision, recall, f1 = evaluate_model_metrics(model, test_loader)\n",
        "\n",
        "# Mostrar resultados\n",
        "print(f'Precisión en el conjunto de prueba: {accuracy:.2f}%')\n",
        "\n",
        "# Plot ROC curves para cada clase\n",
        "plt.figure(figsize=(8, 6))\n",
        "n_classes = len(roc_auc)\n",
        "for i in range(n_classes):\n",
        "    plt.plot(fpr[i], tpr[i], lw=2, label=f'ROC curve (area = {roc_auc[i]:.2f}) for class {i}')\n",
        "plt.plot([0, 1], [0, 1], color='navy', lw=2, linestyle='--')\n",
        "plt.xlim([0.0, 1.0])\n",
        "plt.ylim([0.0, 1.05])\n",
        "plt.xlabel('False Positive Rate')\n",
        "plt.ylabel('True Positive Rate')\n",
        "plt.title('Receiver Operating Characteristic (ROC)')\n",
        "plt.legend(loc='best')\n",
        "plt.show()\n",
        "\n",
        "# Plot confusion matrix\n",
        "labels = ['AGN', 'SN', 'VS', 'asteroid', 'bogus']\n",
        "plt.figure(figsize=(8, 6))\n",
        "sns.heatmap(cm_normalized, annot=True, fmt='.2f', cmap='Blues', xticklabels=labels, yticklabels=labels)\n",
        "plt.xlabel('Predicted')\n",
        "plt.ylabel('Actual')\n",
        "#plt.title('Normalized Confusion Matrix')\n",
        "plt.show()\n",
        "\n",
        "# Métricas adicionales\n",
        "print(f\"Accuracy: {accuracy}\")\n",
        "print(f\"Precision por clase: {precision}\")\n",
        "print(f\"Recall por clase: {recall}\")\n",
        "print(f\"F1 Score por clase: {f1}\")"
      ],
      "metadata": {
        "colab": {
          "base_uri": "https://localhost:8080/",
          "height": 1000
        },
        "id": "ogBtNpMi_ebQ",
        "outputId": "264277f8-aa2e-4013-fa89-1770dd476a85"
      },
      "execution_count": null,
      "outputs": [
        {
          "output_type": "stream",
          "name": "stdout",
          "text": [
            "Precisión en el conjunto de prueba: 0.95%\n"
          ]
        },
        {
          "output_type": "display_data",
          "data": {
            "text/plain": [
              "<Figure size 800x600 with 1 Axes>"
            ],
            "image/png": "[encoded data removed]"
          },
          "metadata": {}
        },
        {
          "output_type": "display_data",
          "data": {
            "text/plain": [
              "<Figure size 800x600 with 2 Axes>"
            ],
            "image/png": "[encoded data removed]"
          },
          "metadata": {}
        },
        {
          "output_type": "stream",
          "name": "stdout",
          "text": [
            "Accuracy: 0.95\n",
            "Precision por clase: [0.96875    0.96774194 0.93396226 0.92380952 0.96      ]\n",
            "Recall por clase: [0.93 0.9  0.99 0.97 0.96]\n",
            "F1 Score por clase: [0.94897959 0.93264249 0.96116505 0.94634146 0.96      ]\n"
          ]
        }
      ]
    }
  ]
}